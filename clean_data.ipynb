{
 "cells": [
  {
   "cell_type": "code",
   "execution_count": 75,
   "metadata": {},
   "outputs": [],
   "source": [
    "import pandas as pd\n",
    "import numpy as np\n",
    "import os\n"
   ]
  },
  {
   "cell_type": "code",
   "execution_count": 76,
   "metadata": {},
   "outputs": [],
   "source": [
    "input_data = pd.read_csv('data.csv')"
   ]
  },
  {
   "cell_type": "code",
   "execution_count": 77,
   "metadata": {},
   "outputs": [],
   "source": [
    "input_data = input_data.iloc[:, :68]"
   ]
  },
  {
   "cell_type": "code",
   "execution_count": 78,
   "metadata": {},
   "outputs": [],
   "source": [
    "input_data.to_csv('data.csv', index=False)\n",
    "input_data.replace('FALSE', 0, inplace=True)"
   ]
  },
  {
   "cell_type": "code",
   "execution_count": 79,
   "metadata": {},
   "outputs": [],
   "source": [
    "columns_to_select = [\n",
    "    'Team Number', 'AC1', 'AC2', 'AC3', \n",
    "    'AC4', 'AARL', 'AARH', 'AAP', 'AAB', 'AM', 'TC1', \n",
    "    'TC2', 'TC3', 'TC4', 'TARL', 'TARH', 'TAP', 'TAB'\n",
    "]\n",
    "\n",
    "input_data = input_data[columns_to_select]"
   ]
  },
  {
   "cell_type": "code",
   "execution_count": 80,
   "metadata": {},
   "outputs": [],
   "source": [
    "averaged_data = input_data.groupby(\"Team Number\").mean().reset_index()\n",
    "stdev_data = input_data.groupby(\"Team Number\").std().reset_index()"
   ]
  },
  {
   "cell_type": "code",
   "execution_count": 81,
   "metadata": {},
   "outputs": [],
   "source": [
    "# Game data for team 1\n",
    "\n",
    "game1 = [7619,5586,4674]\n",
    "\n",
    "game1mask = averaged_data.apply(lambda row: any(\n",
    "    (row['Team Number'] == team)\n",
    "    for team in game1\n",
    "), axis=1)\n",
    "\n",
    "game1data = averaged_data[game1mask]\n",
    "\n",
    "# Game data for team 2\n",
    "\n",
    "game2 = [3381,1619,9523]\n",
    "\n",
    "game2mask = averaged_data.apply(lambda row: any(\n",
    "    (row['Team Number'] == team)\n",
    "    for team in game2\n",
    "), axis=1)\n",
    "\n",
    "game2data = averaged_data[game2mask]\n",
    "\n",
    "# Deviations \n",
    "\n",
    "deviations1 = stdev_data.apply(lambda row: any(\n",
    "    (row['Team Number'] == team)\n",
    "    for team in game1\n",
    "), axis=1)\n",
    "\n",
    "deviations2 = stdev_data.apply(lambda row: any(\n",
    "    (row['Team Number'] == team)\n",
    "    for team in game1\n",
    "), axis=1)\n"
   ]
  },
  {
   "cell_type": "code",
   "execution_count": 82,
   "metadata": {},
   "outputs": [
    {
     "data": {
      "text/plain": [
       "Team Number    17879.000000\n",
       "AC1                0.666667\n",
       "AC2                0.125000\n",
       "AC3                0.000000\n",
       "AC4                0.000000\n",
       "AARL               0.000000\n",
       "AARH               0.000000\n",
       "AAP                0.000000\n",
       "AAB                0.000000\n",
       "AM                 2.152778\n",
       "TC1               10.111111\n",
       "TC2                0.333333\n",
       "TC3                0.111111\n",
       "TC4                1.333333\n",
       "TARL               1.416667\n",
       "TARH               1.847222\n",
       "TAP                1.750000\n",
       "TAB                0.000000\n",
       "dtype: float64"
      ]
     },
     "execution_count": 82,
     "metadata": {},
     "output_type": "execute_result"
    }
   ],
   "source": [
    "game1data.sum()"
   ]
  },
  {
   "cell_type": "code",
   "execution_count": 83,
   "metadata": {},
   "outputs": [
    {
     "data": {
      "text/plain": [
       "Team Number    5000.000000\n",
       "AC1               0.125000\n",
       "AC2               0.500000\n",
       "AC3               0.000000\n",
       "AC4               0.625000\n",
       "AARL              0.000000\n",
       "AARH              0.000000\n",
       "AAP               0.000000\n",
       "AAB               0.000000\n",
       "AM                1.652778\n",
       "TC1               0.250000\n",
       "TC2               1.250000\n",
       "TC3               2.375000\n",
       "TC4               6.000000\n",
       "TARL              0.486111\n",
       "TARH              1.222222\n",
       "TAP               0.222222\n",
       "TAB               0.222222\n",
       "dtype: float64"
      ]
     },
     "execution_count": 83,
     "metadata": {},
     "output_type": "execute_result"
    }
   ],
   "source": [
    "game2data.sum()"
   ]
  },
  {
   "cell_type": "code",
   "execution_count": 86,
   "metadata": {},
   "outputs": [],
   "source": [
    "# Deviation calculation\n",
    "sigma = pd.Series([1, 2, 1])\n",
    "deviated1 = stdev_data.mul(sigma, axis=0) + game1data\n",
    "deviated2 = stdev_data.mul(sigma, axis=0) + game2data\n",
    "\n",
    "# Coral clipping\n",
    "# Every high algae takes out 2 L3 scores, and every low algae takes out 2 L3 and 2 L2 scores\n",
    "l4_def = 12\n",
    "l3_def = 0\n",
    "l2_def = 6\n",
    "\n",
    "def clip(input_data):\n",
    "    series = input_data\n",
    "\n",
    "    l3_cap = l3_def + (input_data[\"AARL\"] * 2) + (input_data[\"AARH\"] * 2) + (input_data[\"TARL\"] * 2) + (input_data[\"TARH\"] * 2)\n",
    "    l2_cap = l2_def + (input_data[\"AARL\"] * 2) + (input_data[\"TARL\"] * 2)\n",
    "\n",
    "    if (series[\"TC3\"] > l3_cap):\n",
    "        series[\"TC3\"] = l3_cap - series[\"AC3\"]\n",
    "    \n",
    "    if (series[\"TC2\"] > l2_cap):\n",
    "        series[\"TC2\"] = l2_cap - series[\"AC2\"]\n",
    "    \n",
    "    return series\n",
    "\n",
    "clipped1 = clip(game1data.sum())\n",
    "clipped2 = clip(game2data.sum())\n",
    "\n",
    "clipped_d1 = clip(deviated1.sum())\n",
    "clipped_d2 = clip(deviated2.sum())"
   ]
  },
  {
   "cell_type": "code",
   "execution_count": 89,
   "metadata": {},
   "outputs": [
    {
     "name": "stdout",
     "output_type": "stream",
     "text": [
      "Points for team 1: 47.791666666666664\n",
      "Points for team 2: 57.68055555555555\n",
      "Points 2-sigma away for team 1: 0.0\n",
      "Points 2-sigma away for team 2: 82.9759116043078\n"
     ]
    }
   ],
   "source": [
    "dataWeights = pd.Series([\n",
    "    0, 3, 4, 6, 7, 0, 0, 6, 4, 3, 2, 3, 4, 5, 0, 0, 6, 4\n",
    "])\n",
    "\n",
    "\n",
    "if len(clipped1) == len(dataWeights):\n",
    "    weighted_sum = (clipped1.reset_index(drop=True) * dataWeights).sum()\n",
    "    print(f\"Points for team 1: {weighted_sum}\")\n",
    "else:\n",
    "    print(\"The number of weights must match the number of values in the series.\")\n",
    "\n",
    "if len(clipped2) == len(dataWeights):\n",
    "    weighted_sum = (clipped2.reset_index(drop=True) * dataWeights).sum()\n",
    "    print(f\"Points for team 2: {weighted_sum}\")\n",
    "else:\n",
    "    print(\"The number of weights must match the number of values in the series.\")\n",
    "\n",
    "# Print deviated\n",
    "\n",
    "if len(clipped_d1) == len(dataWeights):\n",
    "    weighted_sum = (clipped_d1.reset_index(drop=True) * dataWeights).sum()\n",
    "    print(f\"Points 2-sigma away for team 1: {weighted_sum}\")\n",
    "else:\n",
    "    print(\"The number of weights must match the number of values in the series.\")\n",
    "\n",
    "if len(clipped_d2) == len(dataWeights):\n",
    "    weighted_sum = (clipped_d2.reset_index(drop=True) * dataWeights).sum()\n",
    "    print(f\"Points 2-sigma away for team 2: {weighted_sum}\")\n",
    "else:\n",
    "    print(\"The number of weights must match the number of values in the series.\")"
   ]
  }
 ],
 "metadata": {
  "kernelspec": {
   "display_name": "Python 3",
   "language": "python",
   "name": "python3"
  },
  "language_info": {
   "codemirror_mode": {
    "name": "ipython",
    "version": 3
   },
   "file_extension": ".py",
   "mimetype": "text/x-python",
   "name": "python",
   "nbconvert_exporter": "python",
   "pygments_lexer": "ipython3",
   "version": "3.13.2"
  }
 },
 "nbformat": 4,
 "nbformat_minor": 2
}
