{
 "cells": [
  {
   "cell_type": "code",
   "execution_count": 2,
   "metadata": {},
   "outputs": [],
   "source": [
    "import pandas as pd\n",
    "import numpy as np\n",
    "import os\n"
   ]
  },
  {
   "cell_type": "code",
   "execution_count": 3,
   "metadata": {},
   "outputs": [],
   "source": [
    "data = pd.read_csv('data.csv')"
   ]
  },
  {
   "cell_type": "code",
   "execution_count": 4,
   "metadata": {},
   "outputs": [],
   "source": [
    "data = data.iloc[:, :68]"
   ]
  },
  {
   "cell_type": "code",
   "execution_count": 5,
   "metadata": {},
   "outputs": [],
   "source": [
    "data.to_csv('data.csv', index=False)\n",
    "data.replace('FALSE', 0, inplace=True)"
   ]
  },
  {
   "cell_type": "code",
   "execution_count": 11,
   "metadata": {},
   "outputs": [],
   "source": [
    "columns_to_select = [\n",
    "    'Team Number', 'AC1', 'AC2', 'AC3', \n",
    "    'AC4', 'AARL', 'AARH', 'AAP', 'AAB', 'AM', 'TC1', \n",
    "    'TC2', 'TC3', 'TC4', 'TARL', 'TARH', 'TAP', 'TAB'\n",
    "]\n",
    "\n",
    "data = data[columns_to_select]"
   ]
  },
  {
   "cell_type": "code",
   "execution_count": 22,
   "metadata": {},
   "outputs": [],
   "source": [
    "averaged_data = data.groupby(\"Team Number\").mean().reset_index()"
   ]
  },
  {
   "cell_type": "code",
   "execution_count": 33,
   "metadata": {},
   "outputs": [],
   "source": [
    "# Game data for team 1\n",
    "\n",
    "game1 = [6217,6318,8516]\n",
    "\n",
    "game1mask = averaged_data.apply(lambda row: any(\n",
    "    (row['Team Number'] == team)\n",
    "    for team in game1\n",
    "), axis=1)\n",
    "\n",
    "game1data = averaged_data[game1mask]\n",
    "\n",
    "# Game data for team 2\n",
    "\n",
    "game2 = [10490,4011,3206]\n",
    "\n",
    "game2mask = averaged_data.apply(lambda row: any(\n",
    "    (row['Team Number'] == team)\n",
    "    for team in game2\n",
    "), axis=1)\n",
    "\n",
    "game2data = averaged_data[game2mask]\n"
   ]
  },
  {
   "cell_type": "code",
   "execution_count": 34,
   "metadata": {},
   "outputs": [
    {
     "data": {
      "text/plain": [
       "Team Number    21051.000000\n",
       "AC1                0.111111\n",
       "AC2                0.000000\n",
       "AC3                0.000000\n",
       "AC4                0.000000\n",
       "AARL               0.000000\n",
       "AARH               0.000000\n",
       "AAP                0.000000\n",
       "AAB                0.000000\n",
       "AM                 2.666667\n",
       "TC1                0.888889\n",
       "TC2                2.444444\n",
       "TC3                4.333333\n",
       "TC4                0.444444\n",
       "TARL               0.888889\n",
       "TARH               0.666667\n",
       "TAP                0.555556\n",
       "TAB                0.000000\n",
       "dtype: float64"
      ]
     },
     "execution_count": 34,
     "metadata": {},
     "output_type": "execute_result"
    }
   ],
   "source": [
    "game1data.sum()"
   ]
  },
  {
   "cell_type": "code",
   "execution_count": 35,
   "metadata": {},
   "outputs": [
    {
     "data": {
      "text/plain": [
       "Team Number    17707.000000\n",
       "AC1                0.861111\n",
       "AC2                0.000000\n",
       "AC3                0.000000\n",
       "AC4                0.000000\n",
       "AARL               0.000000\n",
       "AARH               0.000000\n",
       "AAP                0.000000\n",
       "AAB                0.000000\n",
       "AM                 2.277778\n",
       "TC1                4.319444\n",
       "TC2                1.111111\n",
       "TC3                2.013889\n",
       "TC4                0.347222\n",
       "TARL               0.333333\n",
       "TARH               0.555556\n",
       "TAP                3.125000\n",
       "TAB                0.444444\n",
       "dtype: float64"
      ]
     },
     "execution_count": 35,
     "metadata": {},
     "output_type": "execute_result"
    }
   ],
   "source": [
    "game2data.sum()"
   ]
  },
  {
   "cell_type": "code",
   "execution_count": null,
   "metadata": {},
   "outputs": [],
   "source": []
  }
 ],
 "metadata": {
  "kernelspec": {
   "display_name": "Python 3",
   "language": "python",
   "name": "python3"
  },
  "language_info": {
   "codemirror_mode": {
    "name": "ipython",
    "version": 3
   },
   "file_extension": ".py",
   "mimetype": "text/x-python",
   "name": "python",
   "nbconvert_exporter": "python",
   "pygments_lexer": "ipython3",
   "version": "3.13.2"
  }
 },
 "nbformat": 4,
 "nbformat_minor": 2
}
