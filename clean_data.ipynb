{
 "cells": [
  {
   "cell_type": "code",
   "execution_count": null,
   "metadata": {},
   "outputs": [],
   "source": [
    "import pandas as pd\n",
    "import numpy as np\n",
    "import os\n"
   ]
  },
  {
   "cell_type": "code",
   "execution_count": 1,
   "metadata": {},
   "outputs": [
    {
     "ename": "NameError",
     "evalue": "name 'pd' is not defined",
     "output_type": "error",
     "traceback": [
      "\u001b[31m---------------------------------------------------------------------------\u001b[39m",
      "\u001b[31mNameError\u001b[39m                                 Traceback (most recent call last)",
      "\u001b[36mCell\u001b[39m\u001b[36m \u001b[39m\u001b[32mIn[1]\u001b[39m\u001b[32m, line 1\u001b[39m\n\u001b[32m----> \u001b[39m\u001b[32m1\u001b[39m input_data = \u001b[43mpd\u001b[49m.read_csv(\u001b[33m'\u001b[39m\u001b[33mdata.csv\u001b[39m\u001b[33m'\u001b[39m)\n",
      "\u001b[31mNameError\u001b[39m: name 'pd' is not defined"
     ]
    }
   ],
   "source": [
    "input_data = pd.read_csv('data.csv')"
   ]
  },
  {
   "cell_type": "code",
   "execution_count": null,
   "metadata": {},
   "outputs": [],
   "source": [
    "input_data = input_data.iloc[:, :68]"
   ]
  },
  {
   "cell_type": "code",
   "execution_count": null,
   "metadata": {},
   "outputs": [],
   "source": [
    "input_data.to_csv('data.csv', index=False)\n",
    "input_data.replace('FALSE', 0, inplace=True)"
   ]
  },
  {
   "cell_type": "code",
   "execution_count": null,
   "metadata": {},
   "outputs": [],
   "source": [
    "columns_to_select = [\n",
    "    'Team Number', 'AC1', 'AC2', 'AC3', \n",
    "    'AC4', 'AARL', 'AARH', 'AAP', 'AAB', 'AM', 'TC1', \n",
    "    'TC2', 'TC3', 'TC4', 'TARL', 'TARH', 'TAP', 'TAB'\n",
    "]\n",
    "\n",
    "input_data = input_data[columns_to_select]"
   ]
  },
  {
   "cell_type": "code",
   "execution_count": null,
   "metadata": {},
   "outputs": [],
   "source": [
    "averaged_data = input_data.groupby(\"Team Number\").mean().reset_index()"
   ]
  },
  {
   "cell_type": "code",
   "execution_count": null,
   "metadata": {},
   "outputs": [],
   "source": [
    "# Game data for team 1\n",
    "\n",
    "game1 = [3294,7864,5903]\n",
    "\n",
    "game1mask = averaged_data.apply(lambda row: any(\n",
    "    (row['Team Number'] == team)\n",
    "    for team in game1\n",
    "), axis=1)\n",
    "\n",
    "game1data = averaged_data[game1mask]\n",
    "\n",
    "# Game data for team 2\n",
    "\n",
    "game2 = [4741,6318,3100]\n",
    "\n",
    "game2mask = averaged_data.apply(lambda row: any(\n",
    "    (row['Team Number'] == team)\n",
    "    for team in game2\n",
    "), axis=1)\n",
    "\n",
    "game2data = averaged_data[game2mask]\n"
   ]
  },
  {
   "cell_type": "code",
   "execution_count": null,
   "metadata": {},
   "outputs": [
    {
     "data": {
      "text/plain": [
       "Team Number    17061.000000\n",
       "AC1                1.444444\n",
       "AC2                0.000000\n",
       "AC3                0.000000\n",
       "AC4                0.000000\n",
       "AARL               0.000000\n",
       "AARH               0.000000\n",
       "AAP                0.000000\n",
       "AAB                0.000000\n",
       "AM                 2.888889\n",
       "TC1                0.142857\n",
       "TC2                0.698413\n",
       "TC3                0.222222\n",
       "TC4                6.158730\n",
       "TARL               0.142857\n",
       "TARH               0.650794\n",
       "TAP                0.000000\n",
       "TAB                0.000000\n",
       "dtype: float64"
      ]
     },
     "execution_count": 75,
     "metadata": {},
     "output_type": "execute_result"
    }
   ],
   "source": [
    "game1data.sum()"
   ]
  },
  {
   "cell_type": "code",
   "execution_count": null,
   "metadata": {},
   "outputs": [
    {
     "data": {
      "text/plain": [
       "Team Number    14159.000000\n",
       "AC1                0.222222\n",
       "AC2                0.000000\n",
       "AC3                0.000000\n",
       "AC4                0.000000\n",
       "AARL               0.222222\n",
       "AARH               0.777778\n",
       "AAP                0.000000\n",
       "AAB                0.888889\n",
       "AM                 2.444444\n",
       "TC1                0.777778\n",
       "TC2                1.666667\n",
       "TC3                3.555556\n",
       "TC4                2.000000\n",
       "TARL               2.000000\n",
       "TARH               1.888889\n",
       "TAP                0.666667\n",
       "TAB                5.111111\n",
       "dtype: float64"
      ]
     },
     "execution_count": 76,
     "metadata": {},
     "output_type": "execute_result"
    }
   ],
   "source": [
    "game2data.sum()"
   ]
  },
  {
   "cell_type": "code",
   "execution_count": null,
   "metadata": {},
   "outputs": [],
   "source": [
    "# Coral clipping\n",
    "# Every high algae takes out 2 L3 scores, and every low algae takes out 2 L3 and 2 L2 scores\n",
    "l4_def = 12\n",
    "l3_def = 0\n",
    "l2_def = 6\n",
    "\n",
    "def clip(input_data):\n",
    "    series = input_data\n",
    "\n",
    "    l3_cap = l3_def + (input_data[\"AARL\"] * 2) + (input_data[\"AARH\"] * 2) + (input_data[\"TARL\"] * 2) + (input_data[\"TARH\"] * 2)\n",
    "    l2_cap = l2_def + (input_data[\"AARL\"] * 2) + (input_data[\"TARL\"] * 2)\n",
    "\n",
    "    if (series[\"TC3\"] > l3_cap):\n",
    "        series[\"TC3\"] = l3_cap - series[\"AC3\"]\n",
    "    \n",
    "    if (series[\"TC2\"] > l2_cap):\n",
    "        series[\"TC2\"] = l2_cap - series[\"AC2\"]\n",
    "    \n",
    "    return series\n",
    "\n",
    "clipped1 = clip(game1data.sum())\n",
    "clipped2 = clip(game2data.sum())"
   ]
  },
  {
   "cell_type": "code",
   "execution_count": null,
   "metadata": {},
   "outputs": [
    {
     "name": "stdout",
     "output_type": "stream",
     "text": [
      "Points for team 1: 47.06349206349206\n",
      "Points for team 2: 66.77777777777777\n"
     ]
    }
   ],
   "source": [
    "dataWeights = pd.Series([\n",
    "    0, 3, 4, 6, 7, 0, 0, 6, 4, 3, 2, 3, 4, 5, 0, 0, 6, 4\n",
    "])\n",
    "\n",
    "\n",
    "if len(clipped1) == len(dataWeights):\n",
    "    weighted_sum = (clipped1.reset_index(drop=True) * dataWeights).sum()\n",
    "    print(f\"Points for team 1: {weighted_sum}\")\n",
    "else:\n",
    "    print(\"The number of weights must match the number of values in the series.\")\n",
    "\n",
    "if len(clipped2) == len(dataWeights):\n",
    "    weighted_sum = (clipped2.reset_index(drop=True) * dataWeights).sum()\n",
    "    print(f\"Points for team 2: {weighted_sum}\")\n",
    "else:\n",
    "    print(\"The number of weights must match the number of values in the series.\")"
   ]
  }
 ],
 "metadata": {
  "kernelspec": {
   "display_name": "Python 3",
   "language": "python",
   "name": "python3"
  },
  "language_info": {
   "codemirror_mode": {
    "name": "ipython",
    "version": 3
   },
   "file_extension": ".py",
   "mimetype": "text/x-python",
   "name": "python",
   "nbconvert_exporter": "python",
   "pygments_lexer": "ipython3",
   "version": "3.13.2"
  }
 },
 "nbformat": 4,
 "nbformat_minor": 2
}
